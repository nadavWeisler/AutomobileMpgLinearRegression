{
 "cells": [
  {
   "cell_type": "code",
   "execution_count": 107,
   "metadata": {},
   "outputs": [],
   "source": [
    "import pandas as pd\n",
    "import numpy as np\n",
    "import matplotlib.pyplot as plt"
   ]
  },
  {
   "cell_type": "code",
   "execution_count": 108,
   "metadata": {},
   "outputs": [],
   "source": [
    "from sklearn.model_selection import train_test_split\n",
    "from sklearn.metrics import r2_score"
   ]
  },
  {
   "cell_type": "code",
   "execution_count": 109,
   "metadata": {},
   "outputs": [],
   "source": [
    "from sklearn.linear_model import Lasso\n",
    "from sklearn.neighbors import KNeighborsRegressor\n",
    "from sklearn.svm import SVR\n",
    "from sklearn.tree import DecisionTreeRegressor"
   ]
  },
  {
   "cell_type": "code",
   "execution_count": 110,
   "metadata": {},
   "outputs": [],
   "source": [
    "from sklearn.model_selection import GridSearchCV"
   ]
  },
  {
   "cell_type": "code",
   "execution_count": 111,
   "metadata": {},
   "outputs": [],
   "source": [
    "import warnings\n",
    "warnings.filterwarnings(\"ignore\")"
   ]
  },
  {
   "cell_type": "code",
   "execution_count": 112,
   "metadata": {},
   "outputs": [
    {
     "data": {
      "text/html": [
       "<div>\n",
       "<style scoped>\n",
       "    .dataframe tbody tr th:only-of-type {\n",
       "        vertical-align: middle;\n",
       "    }\n",
       "\n",
       "    .dataframe tbody tr th {\n",
       "        vertical-align: top;\n",
       "    }\n",
       "\n",
       "    .dataframe thead th {\n",
       "        text-align: right;\n",
       "    }\n",
       "</style>\n",
       "<table border=\"1\" class=\"dataframe\">\n",
       "  <thead>\n",
       "    <tr style=\"text-align: right;\">\n",
       "      <th></th>\n",
       "      <th>mpg</th>\n",
       "      <th>cylinders</th>\n",
       "      <th>displacement</th>\n",
       "      <th>horsepower</th>\n",
       "      <th>weight</th>\n",
       "      <th>acceleration</th>\n",
       "      <th>age</th>\n",
       "    </tr>\n",
       "  </thead>\n",
       "  <tbody>\n",
       "    <tr>\n",
       "      <th>272</th>\n",
       "      <td>30.0</td>\n",
       "      <td>4</td>\n",
       "      <td>135.0</td>\n",
       "      <td>84.0</td>\n",
       "      <td>2385</td>\n",
       "      <td>12.9</td>\n",
       "      <td>41</td>\n",
       "    </tr>\n",
       "    <tr>\n",
       "      <th>143</th>\n",
       "      <td>44.0</td>\n",
       "      <td>4</td>\n",
       "      <td>97.0</td>\n",
       "      <td>52.0</td>\n",
       "      <td>2130</td>\n",
       "      <td>24.6</td>\n",
       "      <td>40</td>\n",
       "    </tr>\n",
       "    <tr>\n",
       "      <th>313</th>\n",
       "      <td>27.0</td>\n",
       "      <td>4</td>\n",
       "      <td>151.0</td>\n",
       "      <td>90.0</td>\n",
       "      <td>2950</td>\n",
       "      <td>17.3</td>\n",
       "      <td>40</td>\n",
       "    </tr>\n",
       "    <tr>\n",
       "      <th>244</th>\n",
       "      <td>18.0</td>\n",
       "      <td>6</td>\n",
       "      <td>258.0</td>\n",
       "      <td>110.0</td>\n",
       "      <td>2962</td>\n",
       "      <td>13.5</td>\n",
       "      <td>51</td>\n",
       "    </tr>\n",
       "    <tr>\n",
       "      <th>32</th>\n",
       "      <td>25.4</td>\n",
       "      <td>6</td>\n",
       "      <td>168.0</td>\n",
       "      <td>116.0</td>\n",
       "      <td>2900</td>\n",
       "      <td>12.6</td>\n",
       "      <td>41</td>\n",
       "    </tr>\n",
       "  </tbody>\n",
       "</table>\n",
       "</div>"
      ],
      "text/plain": [
       "      mpg  cylinders  displacement  horsepower  weight  acceleration  age\n",
       "272  30.0          4         135.0        84.0    2385          12.9   41\n",
       "143  44.0          4          97.0        52.0    2130          24.6   40\n",
       "313  27.0          4         151.0        90.0    2950          17.3   40\n",
       "244  18.0          6         258.0       110.0    2962          13.5   51\n",
       "32   25.4          6         168.0       116.0    2900          12.6   41"
      ]
     },
     "execution_count": 112,
     "metadata": {},
     "output_type": "execute_result"
    }
   ],
   "source": [
    "automobile_df = pd.read_csv('automobile_df_processed.csv')\n",
    "automobile_df.sample(5)"
   ]
  },
  {
   "cell_type": "code",
   "execution_count": 113,
   "metadata": {},
   "outputs": [],
   "source": [
    "X = automobile_df.drop(['mpg', 'age'], axis=1)\n",
    "y = automobile_df['mpg']\n",
    "\n",
    "X_train, X_test, y_train, y_test = train_test_split(X, y, test_size=0.2)"
   ]
  },
  {
   "cell_type": "code",
   "execution_count": 114,
   "metadata": {},
   "outputs": [],
   "source": [
    "parameters = {\n",
    "    'alpha': [.2, .4, .6, .7, .8, .9, 1]\n",
    "}"
   ]
  },
  {
   "cell_type": "code",
   "execution_count": 115,
   "metadata": {},
   "outputs": [
    {
     "data": {
      "text/plain": [
       "{'alpha': 0.8}"
      ]
     },
     "execution_count": 115,
     "metadata": {},
     "output_type": "execute_result"
    }
   ],
   "source": [
    "grid_search = GridSearchCV(Lasso(), parameters, cv=3, return_train_score=True).fit(X_train, y_train)\n",
    "grid_search.best_params_"
   ]
  },
  {
   "cell_type": "code",
   "execution_count": 116,
   "metadata": {},
   "outputs": [
    {
     "name": "stdout",
     "output_type": "stream",
     "text": [
      "alpha: 0.2, score: 0.6829000069154191\n",
      "alpha: 0.4, score: 0.6834662937462133\n",
      "alpha: 0.6, score: 0.6838165435402589\n",
      "alpha: 0.7, score: 0.6838497799406204\n",
      "alpha: 0.8, score: 0.6838720858428512\n",
      "alpha: 0.9, score: 0.6838548592900872\n",
      "alpha: 1, score: 0.6838386465386757\n"
     ]
    }
   ],
   "source": [
    "for i in range(len(parameters['alpha'])):\n",
    "    print(f'alpha: {parameters[\"alpha\"][i]}, score: {grid_search.cv_results_[\"mean_test_score\"][i]}')"
   ]
  },
  {
   "cell_type": "code",
   "execution_count": 117,
   "metadata": {},
   "outputs": [],
   "source": [
    "lasso_model = Lasso(alpha=grid_search.best_params_['alpha']).fit(X_train, y_train)"
   ]
  },
  {
   "cell_type": "code",
   "execution_count": 118,
   "metadata": {},
   "outputs": [
    {
     "name": "stdout",
     "output_type": "stream",
     "text": [
      "Training R2 score: 0.6905437793421874\n",
      "Testing R2 score: 0.7660768817339573\n"
     ]
    }
   ],
   "source": [
    "y_pred = lasso_model.predict(X_test)\n",
    "print('Training R2 score:', r2_score(y_train, lasso_model.predict(X_train)))\n",
    "print('Testing R2 score:', r2_score(y_test, y_pred))"
   ]
  },
  {
   "cell_type": "code",
   "execution_count": 119,
   "metadata": {},
   "outputs": [],
   "source": [
    "parameters = {'n_neighbors': [10, 12, 14, 18, 20, 25, 30, 35, 50]}"
   ]
  },
  {
   "cell_type": "code",
   "execution_count": 121,
   "metadata": {},
   "outputs": [
    {
     "data": {
      "text/plain": [
       "{'n_neighbors': 30}"
      ]
     },
     "execution_count": 121,
     "metadata": {},
     "output_type": "execute_result"
    }
   ],
   "source": [
    "grid_search = GridSearchCV(KNeighborsRegressor(), parameters, cv=3, return_train_score=True).fit(X_train, y_train)\n",
    "grid_search.best_params_"
   ]
  },
  {
   "cell_type": "code",
   "execution_count": 123,
   "metadata": {},
   "outputs": [
    {
     "name": "stdout",
     "output_type": "stream",
     "text": [
      "Parameters:  {'n_neighbors': 10}\n",
      "Mean test score:  0.6652505648081778\n",
      "Rank:  9\n",
      "Parameters:  {'n_neighbors': 12}\n",
      "Mean test score:  0.6709897072639865\n",
      "Rank:  8\n",
      "Parameters:  {'n_neighbors': 14}\n",
      "Mean test score:  0.6726067458073227\n",
      "Rank:  6\n",
      "Parameters:  {'n_neighbors': 18}\n",
      "Mean test score:  0.6713845069125935\n",
      "Rank:  7\n",
      "Parameters:  {'n_neighbors': 20}\n",
      "Mean test score:  0.6765679421887864\n",
      "Rank:  5\n",
      "Parameters:  {'n_neighbors': 25}\n",
      "Mean test score:  0.6848705213372028\n",
      "Rank:  2\n",
      "Parameters:  {'n_neighbors': 30}\n",
      "Mean test score:  0.6869995027175769\n",
      "Rank:  1\n",
      "Parameters:  {'n_neighbors': 35}\n",
      "Mean test score:  0.682831490532713\n",
      "Rank:  4\n",
      "Parameters:  {'n_neighbors': 50}\n",
      "Mean test score:  0.6842947155589099\n",
      "Rank:  3\n"
     ]
    }
   ],
   "source": [
    "for i in range(len(parameters['n_neighbors'])):\n",
    "    print('Parameters: ', grid_search.cv_results_['params'][i])\n",
    "    print('Mean test score: ', grid_search.cv_results_['mean_test_score'][i])\n",
    "    print('Rank: ', grid_search.cv_results_['rank_test_score'][i])"
   ]
  },
  {
   "cell_type": "code",
   "execution_count": 124,
   "metadata": {},
   "outputs": [],
   "source": [
    "knn_model = KNeighborsRegressor(n_neighbors=grid_search.best_params_['n_neighbors']).fit(X_train, y_train)"
   ]
  },
  {
   "cell_type": "code",
   "execution_count": 125,
   "metadata": {},
   "outputs": [
    {
     "name": "stdout",
     "output_type": "stream",
     "text": [
      "Training R2 score: 0.7162648690947989\n",
      "Testing R2 score: 0.7530339998236419\n"
     ]
    }
   ],
   "source": [
    "y_pred = knn_model.predict(X_test)\n",
    "print('Training R2 score:', r2_score(y_train, knn_model.predict(X_train)))\n",
    "print('Testing R2 score:', r2_score(y_test, y_pred))"
   ]
  },
  {
   "cell_type": "code",
   "execution_count": 126,
   "metadata": {},
   "outputs": [],
   "source": [
    "parameters = { 'max_depth': [1,2,3,4,5,7,8]}"
   ]
  },
  {
   "cell_type": "code",
   "execution_count": 127,
   "metadata": {},
   "outputs": [
    {
     "data": {
      "text/plain": [
       "{'max_depth': 3}"
      ]
     },
     "execution_count": 127,
     "metadata": {},
     "output_type": "execute_result"
    }
   ],
   "source": [
    "grid_search = GridSearchCV(DecisionTreeRegressor(), parameters, cv=3, return_train_score=True).fit(X_train, y_train)\n",
    "grid_search.best_params_"
   ]
  },
  {
   "cell_type": "code",
   "execution_count": 128,
   "metadata": {},
   "outputs": [
    {
     "name": "stdout",
     "output_type": "stream",
     "text": [
      "Parameters:  {'max_depth': 1}\n",
      "Mean test score:  0.5269243336839583\n",
      "Rank:  5\n",
      "Parameters:  {'max_depth': 2}\n",
      "Mean test score:  0.6224277039596774\n",
      "Rank:  2\n",
      "Parameters:  {'max_depth': 3}\n",
      "Mean test score:  0.6558189884948061\n",
      "Rank:  1\n",
      "Parameters:  {'max_depth': 4}\n",
      "Mean test score:  0.6079748325658512\n",
      "Rank:  3\n",
      "Parameters:  {'max_depth': 5}\n",
      "Mean test score:  0.5505079970295627\n",
      "Rank:  4\n",
      "Parameters:  {'max_depth': 7}\n",
      "Mean test score:  0.4921936066313095\n",
      "Rank:  7\n",
      "Parameters:  {'max_depth': 8}\n",
      "Mean test score:  0.5016115524970909\n",
      "Rank:  6\n"
     ]
    }
   ],
   "source": [
    "for i in range(len(parameters['max_depth'])):\n",
    "    print('Parameters: ', grid_search.cv_results_['params'][i])\n",
    "    print('Mean test score: ', grid_search.cv_results_['mean_test_score'][i])\n",
    "    print('Rank: ', grid_search.cv_results_['rank_test_score'][i])"
   ]
  },
  {
   "cell_type": "code",
   "execution_count": 129,
   "metadata": {},
   "outputs": [],
   "source": [
    "tree_model = DecisionTreeRegressor(max_depth=grid_search.best_params_['max_depth']).fit(X_train, y_train)"
   ]
  },
  {
   "cell_type": "code",
   "execution_count": 130,
   "metadata": {},
   "outputs": [
    {
     "name": "stdout",
     "output_type": "stream",
     "text": [
      "Training R2 score: 0.7620599227703615\n",
      "Testing R2 score: 0.6987932524162004\n"
     ]
    }
   ],
   "source": [
    "y_pred = tree_model.predict(X_test)\n",
    "print('Training R2 score:', r2_score(y_train, tree_model.predict(X_train)))\n",
    "print('Testing R2 score:', r2_score(y_test, y_pred))"
   ]
  },
  {
   "cell_type": "code",
   "execution_count": 131,
   "metadata": {},
   "outputs": [],
   "source": [
    "parameters = {'epsilon': [.05, .1, .2, .3], 'C': [.2,.3]}"
   ]
  },
  {
   "cell_type": "code",
   "execution_count": 132,
   "metadata": {},
   "outputs": [
    {
     "data": {
      "text/plain": [
       "{'C': 0.3, 'epsilon': 0.2}"
      ]
     },
     "execution_count": 132,
     "metadata": {},
     "output_type": "execute_result"
    }
   ],
   "source": [
    "grid_search = GridSearchCV(SVR(kernel='linear'), parameters, cv=3, return_train_score=True).fit(X_train, y_train)\n",
    "grid_search.best_params_"
   ]
  },
  {
   "cell_type": "code",
   "execution_count": 133,
   "metadata": {},
   "outputs": [],
   "source": [
    "svr_model = SVR(epsilon=grid_search.best_params_['epsilon'], C=grid_search.best_params_['C']).fit(X_train, y_train)"
   ]
  },
  {
   "cell_type": "code",
   "execution_count": 134,
   "metadata": {},
   "outputs": [
    {
     "name": "stdout",
     "output_type": "stream",
     "text": [
      "Training R2 score: 0.6070896059705699\n",
      "Testing R2 score: 0.6747628025135349\n"
     ]
    }
   ],
   "source": [
    "y_pred = svr_model.predict(X_test)\n",
    "print('Training R2 score:', r2_score(y_train, svr_model.predict(X_train)))\n",
    "print('Testing R2 score:', r2_score(y_test, y_pred))"
   ]
  }
 ],
 "metadata": {
  "interpreter": {
   "hash": "5e49d1d782d0c81664cfef69a5a300da04b0c8dd1f7059897730ec0e8bf9da48"
  },
  "kernelspec": {
   "display_name": "Python 3.9.7 ('base')",
   "language": "python",
   "name": "python3"
  },
  "language_info": {
   "codemirror_mode": {
    "name": "ipython",
    "version": 3
   },
   "file_extension": ".py",
   "mimetype": "text/x-python",
   "name": "python",
   "nbconvert_exporter": "python",
   "pygments_lexer": "ipython3",
   "version": "3.9.7"
  },
  "orig_nbformat": 4
 },
 "nbformat": 4,
 "nbformat_minor": 2
}
